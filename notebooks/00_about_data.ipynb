{
 "cells": [
  {
   "cell_type": "markdown",
   "metadata": {},
   "source": [
    "# About the Data"
   ]
  },
  {
   "cell_type": "code",
   "execution_count": 24,
   "metadata": {},
   "outputs": [],
   "source": [
    "from pathlib import Path\n",
    "\n",
    "RAW_DATA_DIR = Path('/media/netanel/Backup/Image Processing Course Project/data/raw')"
   ]
  },
  {
   "cell_type": "code",
   "execution_count": 29,
   "metadata": {},
   "outputs": [
    {
     "data": {
      "text/plain": [
       "['P1H1',\n",
       " 'P1LC1',\n",
       " 'P1LC2',\n",
       " 'P1LC3',\n",
       " 'P1LC4',\n",
       " 'P1LC5',\n",
       " 'P1LC6',\n",
       " 'P1LC7',\n",
       " 'P1M1',\n",
       " 'P1M2',\n",
       " 'P1M3',\n",
       " 'P2LC1',\n",
       " 'P2LC2',\n",
       " 'P2LC3',\n",
       " 'P2LC4',\n",
       " 'P2LC5',\n",
       " 'P3LC1',\n",
       " 'P3LC2',\n",
       " 'P3LC3',\n",
       " 'P3LC4',\n",
       " 'P3LC5']"
      ]
     },
     "execution_count": 29,
     "metadata": {},
     "output_type": "execute_result"
    }
   ],
   "source": [
    "# View directories in dataset\n",
    "[p.name for p in Path(RAW_DATA_DIR).glob('*')]"
   ]
  },
  {
   "cell_type": "markdown",
   "metadata": {},
   "source": [
    "From the readme:\n",
    "\n",
    "\"P*x*\" - refers to the participant description:\n",
    "- P1: Bright skin tone\n",
    "- P2: Intermediate skin tone\n",
    "- P3: Dark skin tone\n",
    "\n",
    "\"LC*x*\" - refers to the lighting condition:\n",
    "- LC1: Light temperature of 6500 Kelvin. Light intensity of 5.2 lux.\n",
    "- LC2: Light temperature of 6500 Kelvin. Light intensity of 36 lux.\n",
    "- LC3: Light temperature of 6500 Kelvin. Light intensity of 187 lux.\n",
    "- LC4: Light temperature of 6500 Kelvin. Light intensity of 720 lux.\n",
    "- LC5: Light temperature of 6500 Kelvin. Light intensity of 2720 lux.\n",
    "- LC6: Light temperature of 2700 Kelvin. Light intensity of 35 lux.\n",
    "- LC7: Light temperature of 6500 Kelvin. Light intensity of 18 lux. Face only illuminated from one side.\n",
    "\n",
    "\"M*x*\" - refers to the motion of the participant\n",
    "- M1: Lighting condition: LC4. Natural head motions and rotations.\n",
    "- M2: Lighting condition: LC4. Continuous rhythmic nodding motion at participant HR (+- 60 bpm)\n",
    "- M3: Lighting condition: LC4. Continuous rhythmic nodding motion above participant HR (+- 90 bpm)\n",
    "\n",
    "\"H1\" means the participant had physical exercise before the experiment:\n",
    "- H1: Lighting condition: LC4. High and descending HR. (Recorded directly after physical excersise)\n"
   ]
  },
  {
   "cell_type": "markdown",
   "metadata": {},
   "source": [
    "Here are the available combinations:\n",
    "\n",
    "| | LC1 | LC2 | LC3 | LC4 | LC5 | LC6 | LC7 | M1 | M2 | M3 | H1 |\n",
    "|:--|:--|:--|:--|:--|:--|:--|:--|:--|:--|:--|:--|\n",
    "P1 | 1 | 1 | 1 | 1 | 1 | 1 | 1 | 1 | 1 | 1 | 1 |\n",
    "P2 | 1 | 1 | 1 | 1 | 1 | - | - | - | - | - | - |\n",
    "P3 | 1 | 1 | 1 | 1 | 1 | - | - | - | - | - | - |"
   ]
  }
 ],
 "metadata": {
  "kernelspec": {
   "display_name": "empathy-analysis",
   "language": "python",
   "name": "python3"
  },
  "language_info": {
   "codemirror_mode": {
    "name": "ipython",
    "version": 3
   },
   "file_extension": ".py",
   "mimetype": "text/x-python",
   "name": "python",
   "nbconvert_exporter": "python",
   "pygments_lexer": "ipython3",
   "version": "3.11.5"
  }
 },
 "nbformat": 4,
 "nbformat_minor": 2
}
