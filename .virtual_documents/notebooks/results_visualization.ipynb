import os
import pickle
from pathlib import Path

import cv2
import h5py
import joypy
import matplotlib.pyplot as plt
import numpy as np
import optuna
import pandas as pd
import seaborn as sns
from dotenv import load_dotenv
from matplotlib import cm

load_dotenv()

RAW_DATA_DIR = Path(os.getenv('RAW_DATA_DIR'))
PREPROCESSED_DATA_DIR = Path(os.getenv('PREPROCESSED_DATA_DIR'))





filepath = '../results/rPPG_Study_cv_results_new_w_hist.pkl'
with open(filepath, 'rb') as f:
    raw_results = pickle.load(f)


results = pd.DataFrame()
for fold in raw_results:
    study = fold['study']
    results = pd.concat([results, study.trials_dataframe()])
results = results.drop(
    columns=['number', 'datetime_start', 'datetime_complete', 'duration'])
results


results.columns


params_to_plot = ['params_blur', 'params_color_space', 'params_high_pass',
                  'params_histogram']


def plot_joy(by: str, plot_title: str = None, df: pd.DataFrame = results):
    df = df[['value', f'params_{by}']].fillna('None')
    fig, ax = joypy.joyplot(df, by=f'params_{by}',
                            colormap=cm.viridis, fade=False, grid='y', overlap=2,
                            figsize=(6, 3))
    plt.xticks(np.arange(0, df['value'].max(), 0.1))
    plt.xlabel('MAPE')
    if plot_title is None:
        plot_title = by
    plt.title(f'MAPE Distribution by {plot_title}\nAcross all folds')
    plt.show()


plot_joy('blur', 'Blur Filter')


plot_joy('high_pass', 'High Pass Filter')


plot_joy('histogram', 'Histogram Operations')


plot_joy('color_space', 'Color Space')


sns.displot(results, row=)


g = sns.displot(results.fillna('None'), row='params_kernel_size', col='params_blur',
                sharex=False, sharey=True, margin_titles=True, )
g.map(sns.barplot, 'value')
plt.tight_layout()


new_filepath = r'C:\Users\netan\Downloads\rPPG_Study_cv_results.pkl'
with open(new_filepath, 'rb') as f:
    new_results = pickle.load(f)


new_results_df = pd.DataFrame(new_results)
new_results_df


def evaluate_on_entire_dataset(params):
    for subject in subjects:


for i, study in enumerate(new_results_df.study):
    print(f'fold {i + 1} best parameters:')
    print(study.best_params)
    # here calculate the MAPE for the entire dataset using study.best_params
    params_results = evaluate_on_entire_dataset(study.best_params)
    print()





def transform(frames, color_space, blur, high_pass, low_pass, kernel_size, ):

               # color spaces
               if color_space == 'RGB':  # default input
                    pass
                if color_space == 'HSV':
                    for i, frame in enumerate(frames):
                        new_frame = cv2.cvtColor(frame, cv2.COLOR_RGB2HSV)
                        frames[i] = new_frame

                if color_space == 'Lab':

                    for i, frame in enumerate(frames):
                        new_frame = cv2.cvtColor(frame, cv2.COLOR_RGB2Lab)
                        frames[i] = new_frame

                if color_space == 'Luv':

                    for i, frame in enumerate(frames):
                        new_frame = cv2.cvtColor(frame, cv2.COLOR_RGB2Luv)
                        frames[i] = new_frame

                if color_space == 'HLS':

                    for i, frame in enumerate(frames):
                        new_frame = cv2.cvtColor(frame, cv2.COLOR_RGB2HLS)
                        frames[i] = new_frame

                if color_space == 'YUV':

                    for i, frame in enumerate(frames):
                        new_frame = cv2.cvtColor(frame, cv2.COLOR_RGB2YUV)
                        frames[i] = new_frame


                # blur types
                if blur is not None:


                    for t in np.arange(times):
                        if blur == 'box':

                            for i, frame in enumerate(frames):
                                new_frame = cv2.blur(frame, (kernel_size,kernel_size))
                                frames[i] = new_frame


                        if blur == 'median':

                            for i, frame in enumerate(frames):
                                new_frame = cv2.medianBlur(frame, kernel_size)
                                frames[i] = new_frame


                        if blur == 'gaussian':

                            for i, frame in enumerate(frames):
                                new_frame = cv2.GaussianBlur(frame, (kernel_size,kernel_size),0)
                                frames[i] = new_frame


                if high_pass is not None:

                    if high_pass == 'our_custom':



                        custom_filter = np.zeros([k,k])

                        axis_2 = int((k-1)/2)

                        quarter = np.zeros([axis_2, axis_2])

                        for i in np.arange(axis_2):

                            for j in np.arange(axis_2):

                                quarter[j,i] = -(base+(i+j)*scale)

                        midline = quarter[axis_2-1] + midline_increment



                        custom_filter[:axis_2, :axis_2] = quarter

                        custom_filter[axis_2+1:, :axis_2] = np.flip(quarter,axis=0)

                        custom_filter[axis_2+1:, axis_2+1:] =  -1*np.flip(np.flip(quarter,axis=0),axis=1)

                        custom_filter[:axis_2, axis_2+1:] = -1*np.flip(quarter,axis=1)

                        custom_filter[axis_2,axis_2+1:] =  -1 * np.flip(midline)
                        custom_filter[axis_2, :axis_2] = midline

                        if sharpen:
                            custom_filter[axis_2+1, axis_2+1] = 1

                        if flip:
                            custom_filter = custom_filter.T

                        for i, frame in enumerate(frames):
                            new_frame = cv2.filter2D(src=frame, ddepth=-1, kernel=custom_filter)

                    if high_pass == 'laplacian':

                        for i, frame in enumerate(frames):
                            new_frame = cv2.Laplacian(frame, cv2.CV_64F, ksize=k)
                            frames[i] = new_frame

                # if transform is not None:

                #     transform types

                #     if transform == 'histogram_equalization':

                #         for i, frame in enumerate(frames):

                #             colorimage_b = cv2.equalizeHist(frame[:,:,0])
                #             colorimage_g = cv2.equalizeHist(frame[:,:,1])
                #             colorimage_r = cv2.equalizeHist(frame[:,:,2])

                #             # Next we stack our equalized channels back into a single image
                #             colorimage_e = np.stack((colorimage_b,colorimage_g,colorimage_r), axis=2)
                #             frames[i] = colorimage_e





                return frames


for i, study in enumerate(new_results_df.study):
    print(f'fold {i + 1} best parameters:')
    print(study.best_params)
    print()


study.__dir__()








with h5py.File('../data/foreheads_all.h5') as f:
    print(f.keys())
    sub1 = np.array(f['subject1'])


plt.imshow(sub1[0])


def combination_1(frames):
    new_frames = []
    for frame in frames:
        new_frame = frame.copy()
        new_frame = cv2.blur(new_frame, (7, 7))
        new_frame = cv2.blur(new_frame, (7, 7))
        new_frame = cv2.blur(new_frame, (7, 7))
        new_frames.append(new_frame)
    return np.array(new_frames)


def combination_2(frames):
    new_frames = []
    for frame in frames:
        new_frame = frame.copy()
        new_frame = cv2.cvtColor(new_frame, cv2.COLOR_RGB2Luv)
        new_frame = cv2.GaussianBlur(new_frame, (3, 3), 0)
        new_frame = cv2.GaussianBlur(new_frame, (3, 3), 0)
        new_frame = cv2.GaussianBlur(new_frame, (3, 3), 0)
        new_frames.append(new_frame)
    return np.array(new_frames)


def combination_3(frames):
    return frames


def combination_4(frames):
    new_frames = []
    for frame in frames:
        new_frame = frame.copy()
        new_frame = cv2.cvtColor(new_frame, cv2.COLOR_RGB2Luv)
        new_frames.append(new_frame)
    return np.array(new_frames)


def combination_5(frames):
    new_frames = []
    for frame in frames:
        new_frame = frame.copy()
        new_frame = cv2.GaussianBlur(new_frame, (3, 3), 0)
        new_frame = cv2.GaussianBlur(new_frame, (3, 3), 0)
        new_frame = cv2.GaussianBlur(new_frame, (3, 3), 0)
        new_frames.append(new_frame)
    return np.array(new_frames)


combinations = {'combination 1': combination_1,
                'combination 2': combination_2,
                'combination 3': combination_3,
                'combination 4': combination_4,
                'combination 5': combination_5}


fig, axs = plt.subplots(5, figsize=(10, 7))

for com, ax in zip(combinations, axs):
    ax.imshow(combinations[com](sub1)[0])
    ax.axis('off')
    ax.set_title(com)

plt.tight_layout()
plt.show()
